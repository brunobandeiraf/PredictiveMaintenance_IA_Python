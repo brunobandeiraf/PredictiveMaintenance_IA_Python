{
 "cells": [
  {
   "cell_type": "code",
   "execution_count": 27,
   "metadata": {},
   "outputs": [],
   "source": [
    "import numpy as np\n",
    "import pandas as pd\n",
    "import seaborn as sns\n",
    "import matplotlib.pyplot as plt"
   ]
  },
  {
   "cell_type": "markdown",
   "metadata": {},
   "source": [
    "# Carregamento do Dataset "
   ]
  },
  {
   "cell_type": "code",
   "execution_count": 28,
   "metadata": {},
   "outputs": [],
   "source": [
    "# Carregamento do dataset\n",
    "df_sensores = pd.read_csv('../dataset/sensores.csv')"
   ]
  },
  {
   "cell_type": "code",
   "execution_count": 10,
   "metadata": {},
   "outputs": [
    {
     "name": "stderr",
     "output_type": "stream",
     "text": [
      "/var/folders/g9/vm2nz5bd1dx9l1b3vcdgkx7w0000gn/T/ipykernel_11867/1703774000.py:7: FutureWarning: Setting an item of incompatible dtype is deprecated and will raise in a future error of pandas. Value '0         Classe D\n",
      "1         Classe A\n",
      "2         Classe A\n",
      "3         Classe B\n",
      "4         Classe D\n",
      "            ...   \n",
      "221172    Classe B\n",
      "221173    Classe E\n",
      "221174    Classe E\n",
      "221175    Classe C\n",
      "221176    Classe B\n",
      "Name: Classe, Length: 221177, dtype: object' has dtype incompatible with int64, please explicitly cast to a compatible dtype first.\n",
      "  df_sensores.iloc[:, 0] = df_sensores.iloc[:, 0].replace(mapeamento)\n"
     ]
    }
   ],
   "source": [
    "#pd.set_option('future.no_silent_downcasting', True)\n",
    "\n",
    "# Mapear os valores para os números desejados\n",
    "#mapeamento = {1:'Classe A', 2:'Classe B', 3:'Classe C', 4:'Classe D', 5:'Classe E'}\n",
    "\n",
    "# Substituir os valores na primeira coluna de acordo com o mapeamento\n",
    "#df_sensores.iloc[:, 0] = df_sensores.iloc[:, 0].replace(mapeamento)"
   ]
  },
  {
   "cell_type": "code",
   "execution_count": 29,
   "metadata": {},
   "outputs": [
    {
     "data": {
      "text/html": [
       "<div>\n",
       "<style scoped>\n",
       "    .dataframe tbody tr th:only-of-type {\n",
       "        vertical-align: middle;\n",
       "    }\n",
       "\n",
       "    .dataframe tbody tr th {\n",
       "        vertical-align: top;\n",
       "    }\n",
       "\n",
       "    .dataframe thead th {\n",
       "        text-align: right;\n",
       "    }\n",
       "</style>\n",
       "<table border=\"1\" class=\"dataframe\">\n",
       "  <thead>\n",
       "    <tr style=\"text-align: right;\">\n",
       "      <th></th>\n",
       "      <th>Classe</th>\n",
       "      <th>ID</th>\n",
       "      <th>0</th>\n",
       "      <th>1</th>\n",
       "      <th>2</th>\n",
       "      <th>3</th>\n",
       "      <th>4</th>\n",
       "      <th>5</th>\n",
       "      <th>6</th>\n",
       "      <th>7</th>\n",
       "      <th>...</th>\n",
       "      <th>190</th>\n",
       "      <th>191</th>\n",
       "      <th>192</th>\n",
       "      <th>193</th>\n",
       "      <th>194</th>\n",
       "      <th>195</th>\n",
       "      <th>196</th>\n",
       "      <th>197</th>\n",
       "      <th>198</th>\n",
       "      <th>199</th>\n",
       "    </tr>\n",
       "  </thead>\n",
       "  <tbody>\n",
       "    <tr>\n",
       "      <th>0</th>\n",
       "      <td>4</td>\n",
       "      <td>1</td>\n",
       "      <td>-0.032906</td>\n",
       "      <td>-0.037456</td>\n",
       "      <td>-0.034082</td>\n",
       "      <td>-0.001968</td>\n",
       "      <td>0.084229</td>\n",
       "      <td>0.156574</td>\n",
       "      <td>0.128887</td>\n",
       "      <td>0.042514</td>\n",
       "      <td>...</td>\n",
       "      <td>-0.036180</td>\n",
       "      <td>-0.099786</td>\n",
       "      <td>-0.080654</td>\n",
       "      <td>-0.070954</td>\n",
       "      <td>-0.003636</td>\n",
       "      <td>0.012660</td>\n",
       "      <td>0.028986</td>\n",
       "      <td>0.008340</td>\n",
       "      <td>0.065012</td>\n",
       "      <td>0.091692</td>\n",
       "    </tr>\n",
       "    <tr>\n",
       "      <th>1</th>\n",
       "      <td>1</td>\n",
       "      <td>1</td>\n",
       "      <td>0.198619</td>\n",
       "      <td>0.178949</td>\n",
       "      <td>0.072092</td>\n",
       "      <td>0.083383</td>\n",
       "      <td>0.151363</td>\n",
       "      <td>0.108910</td>\n",
       "      <td>-0.099102</td>\n",
       "      <td>-0.195660</td>\n",
       "      <td>...</td>\n",
       "      <td>-0.306607</td>\n",
       "      <td>-0.135897</td>\n",
       "      <td>-0.024512</td>\n",
       "      <td>0.103591</td>\n",
       "      <td>0.168580</td>\n",
       "      <td>0.032522</td>\n",
       "      <td>0.117073</td>\n",
       "      <td>0.001361</td>\n",
       "      <td>0.060746</td>\n",
       "      <td>0.093414</td>\n",
       "    </tr>\n",
       "    <tr>\n",
       "      <th>2</th>\n",
       "      <td>1</td>\n",
       "      <td>1</td>\n",
       "      <td>-0.000792</td>\n",
       "      <td>0.012913</td>\n",
       "      <td>0.017356</td>\n",
       "      <td>0.024251</td>\n",
       "      <td>0.022153</td>\n",
       "      <td>0.019270</td>\n",
       "      <td>0.017725</td>\n",
       "      <td>0.013644</td>\n",
       "      <td>...</td>\n",
       "      <td>0.027556</td>\n",
       "      <td>0.016042</td>\n",
       "      <td>0.014681</td>\n",
       "      <td>0.017848</td>\n",
       "      <td>0.015588</td>\n",
       "      <td>0.011422</td>\n",
       "      <td>0.008025</td>\n",
       "      <td>0.009931</td>\n",
       "      <td>0.006395</td>\n",
       "      <td>0.002775</td>\n",
       "    </tr>\n",
       "    <tr>\n",
       "      <th>3</th>\n",
       "      <td>2</td>\n",
       "      <td>1</td>\n",
       "      <td>-0.086419</td>\n",
       "      <td>-0.112830</td>\n",
       "      <td>-0.124875</td>\n",
       "      <td>-0.029539</td>\n",
       "      <td>-0.067434</td>\n",
       "      <td>-0.077257</td>\n",
       "      <td>0.064067</td>\n",
       "      <td>0.075505</td>\n",
       "      <td>...</td>\n",
       "      <td>0.023029</td>\n",
       "      <td>-0.032053</td>\n",
       "      <td>0.002037</td>\n",
       "      <td>0.062153</td>\n",
       "      <td>-0.033044</td>\n",
       "      <td>-0.065966</td>\n",
       "      <td>-0.102277</td>\n",
       "      <td>-0.187535</td>\n",
       "      <td>-0.140448</td>\n",
       "      <td>-0.050016</td>\n",
       "    </tr>\n",
       "    <tr>\n",
       "      <th>4</th>\n",
       "      <td>4</td>\n",
       "      <td>1</td>\n",
       "      <td>-0.185975</td>\n",
       "      <td>-0.066973</td>\n",
       "      <td>0.042906</td>\n",
       "      <td>0.007640</td>\n",
       "      <td>-0.038686</td>\n",
       "      <td>-0.012729</td>\n",
       "      <td>0.111408</td>\n",
       "      <td>0.104206</td>\n",
       "      <td>...</td>\n",
       "      <td>0.074705</td>\n",
       "      <td>0.114014</td>\n",
       "      <td>0.089271</td>\n",
       "      <td>0.050639</td>\n",
       "      <td>-0.007533</td>\n",
       "      <td>-0.037725</td>\n",
       "      <td>0.003866</td>\n",
       "      <td>-0.020646</td>\n",
       "      <td>-0.089609</td>\n",
       "      <td>-0.127734</td>\n",
       "    </tr>\n",
       "  </tbody>\n",
       "</table>\n",
       "<p>5 rows × 202 columns</p>\n",
       "</div>"
      ],
      "text/plain": [
       "   Classe  ID         0         1         2         3         4         5  \\\n",
       "0       4   1 -0.032906 -0.037456 -0.034082 -0.001968  0.084229  0.156574   \n",
       "1       1   1  0.198619  0.178949  0.072092  0.083383  0.151363  0.108910   \n",
       "2       1   1 -0.000792  0.012913  0.017356  0.024251  0.022153  0.019270   \n",
       "3       2   1 -0.086419 -0.112830 -0.124875 -0.029539 -0.067434 -0.077257   \n",
       "4       4   1 -0.185975 -0.066973  0.042906  0.007640 -0.038686 -0.012729   \n",
       "\n",
       "          6         7  ...       190       191       192       193       194  \\\n",
       "0  0.128887  0.042514  ... -0.036180 -0.099786 -0.080654 -0.070954 -0.003636   \n",
       "1 -0.099102 -0.195660  ... -0.306607 -0.135897 -0.024512  0.103591  0.168580   \n",
       "2  0.017725  0.013644  ...  0.027556  0.016042  0.014681  0.017848  0.015588   \n",
       "3  0.064067  0.075505  ...  0.023029 -0.032053  0.002037  0.062153 -0.033044   \n",
       "4  0.111408  0.104206  ...  0.074705  0.114014  0.089271  0.050639 -0.007533   \n",
       "\n",
       "        195       196       197       198       199  \n",
       "0  0.012660  0.028986  0.008340  0.065012  0.091692  \n",
       "1  0.032522  0.117073  0.001361  0.060746  0.093414  \n",
       "2  0.011422  0.008025  0.009931  0.006395  0.002775  \n",
       "3 -0.065966 -0.102277 -0.187535 -0.140448 -0.050016  \n",
       "4 -0.037725  0.003866 -0.020646 -0.089609 -0.127734  \n",
       "\n",
       "[5 rows x 202 columns]"
      ]
     },
     "execution_count": 29,
     "metadata": {},
     "output_type": "execute_result"
    }
   ],
   "source": [
    "# Mostrar 5 primeiros registros do Dataframe\n",
    "df_sensores.head(5)"
   ]
  },
  {
   "cell_type": "markdown",
   "metadata": {},
   "source": [
    "# Treinamento do Modelo"
   ]
  },
  {
   "cell_type": "code",
   "execution_count": 23,
   "metadata": {},
   "outputs": [],
   "source": [
    "# Importando bibliotecas do sklearn\n",
    "from sklearn.linear_model import LinearRegression\n",
    "from sklearn.model_selection import train_test_split\n",
    "from sklearn.metrics import mean_absolute_error, r2_score"
   ]
  },
  {
   "cell_type": "code",
   "execution_count": 30,
   "metadata": {},
   "outputs": [],
   "source": [
    "# Modelo 1 - Sem Classe\n",
    "# Variáveis independentes\n",
    "X = df_sensores.drop( columns=['Classe', 'ID'])\n",
    "# Resultado\n",
    "y = df_sensores['Classe']"
   ]
  },
  {
   "cell_type": "code",
   "execution_count": 39,
   "metadata": {},
   "outputs": [],
   "source": [
    "# Dividir o conjunto entre treino e teste\n",
    "# Treina com 70% do dataset e 30% de teste\n",
    "# random_state 51 garante que a seleção do conjunto de teste não altere\n",
    "X_train, X_test, y_train, y_test = train_test_split(X, y, train_size=0.7, random_state=51)"
   ]
  },
  {
   "cell_type": "code",
   "execution_count": 40,
   "metadata": {},
   "outputs": [
    {
     "data": {
      "text/plain": [
       "66354"
      ]
     },
     "execution_count": 40,
     "metadata": {},
     "output_type": "execute_result"
    }
   ],
   "source": [
    "len(y_test)"
   ]
  },
  {
   "cell_type": "code",
   "execution_count": 41,
   "metadata": {},
   "outputs": [],
   "source": [
    "# Treinando o Algoritmo de Regressão Linear - Modelo 1\n",
    "model = LinearRegression().fit(X_train, y_train)"
   ]
  },
  {
   "cell_type": "code",
   "execution_count": 42,
   "metadata": {},
   "outputs": [],
   "source": [
    "# Gerar Predições do conjunto de testes com base no Modelo 1\n",
    "y_pred = model.predict(X_test)"
   ]
  },
  {
   "cell_type": "code",
   "execution_count": 43,
   "metadata": {},
   "outputs": [
    {
     "data": {
      "text/plain": [
       "array([-3.26899616e-05,  1.07178959e-04,  7.85868744e-05, -2.80759634e-04,\n",
       "        1.13556956e-04,  6.49181126e-05, -6.78198336e-05,  2.35632811e-04,\n",
       "       -4.93321134e-04, -3.50287475e-04,  2.98293907e-05,  3.32557234e-04,\n",
       "        3.90622362e-04,  1.96046219e-04,  2.29633583e-04,  5.38841765e-04,\n",
       "       -1.64959258e-04, -4.83848444e-04, -4.87290004e-04,  2.35842040e-04,\n",
       "       -1.30737952e-04,  5.78315399e-04, -2.64416872e-04,  1.82458135e-04,\n",
       "        5.48919213e-06, -3.39210884e-04,  1.23654001e-04,  3.19198411e-04,\n",
       "       -1.08484847e-04, -4.81457896e-04,  6.63292829e-05, -2.19487331e-04,\n",
       "       -2.92253961e-04, -1.36233810e-04, -2.60084042e-04, -2.07048817e-04,\n",
       "       -8.35981611e-05, -9.06376405e-05,  2.15513388e-04, -4.34303754e-04,\n",
       "        2.17678319e-04,  3.70859005e-05,  4.47315441e-06,  2.56372695e-04,\n",
       "        5.08511976e-04, -1.66962565e-04,  1.30618890e-05,  4.93665693e-04,\n",
       "        1.28508922e-04, -1.80628500e-04, -3.55791525e-04, -3.05154922e-04,\n",
       "        2.09672800e-04,  1.14936854e-04, -7.00281709e-04,  5.27506291e-04,\n",
       "       -9.90929339e-05,  1.85740960e-04, -2.95350204e-04, -1.01524365e-04,\n",
       "       -2.73569022e-04,  5.54815334e-05,  5.36306054e-04,  3.78217541e-05,\n",
       "        7.97754532e-05, -1.03371509e-04, -4.95790663e-04,  3.15894832e-04,\n",
       "       -1.96184920e-04, -1.80198603e-04,  5.69068683e-05,  1.92979262e-04,\n",
       "       -1.83997414e-04, -2.96721433e-04,  2.18858632e-04, -4.38657476e-04,\n",
       "        1.57747470e-04,  7.75872489e-05,  4.40528744e-04,  5.08429851e-05,\n",
       "       -8.39166687e-05,  1.40357058e-05,  2.11077066e-04, -1.20848477e-04,\n",
       "       -1.34379326e-04, -1.68740115e-04,  1.15295276e-05, -5.73015111e-04,\n",
       "        1.04609779e-04, -4.63694907e-05,  1.27038451e-05, -7.57388640e-05,\n",
       "        2.77279653e-04, -1.89987611e-04,  8.07590757e-05,  1.78663843e-04,\n",
       "        1.34199997e-04,  5.23747067e-04,  4.19350327e-05, -2.51706541e-04,\n",
       "       -2.11089643e-04,  3.15293676e-04, -3.41085197e-04,  1.10373974e-04,\n",
       "       -1.75943252e-04, -1.04107485e-04,  2.65782181e-04,  1.17038245e-04,\n",
       "        1.11869452e-04, -1.53412366e-04,  5.78819799e-05,  4.30030240e-05,\n",
       "        3.77731570e-04,  2.31174156e-04,  1.36266623e-04,  1.10125514e-04,\n",
       "        1.23848722e-04,  4.36386898e-05,  1.62753189e-04,  3.31393561e-05,\n",
       "        2.15997138e-04, -3.26874006e-04,  2.61995848e-05,  7.35446532e-05,\n",
       "       -2.86464983e-04, -3.69372527e-04,  2.59320904e-04, -4.15159123e-04,\n",
       "       -4.62321008e-05,  2.59569964e-04, -7.96494256e-05,  7.48681828e-05,\n",
       "        3.57661331e-04, -1.87559680e-04,  4.47112194e-04, -2.18566910e-05,\n",
       "        2.82415309e-04, -3.00239705e-04,  3.78252791e-04, -6.53123558e-05,\n",
       "        3.58802249e-04, -1.35852183e-04, -7.44717292e-05,  4.67242217e-05,\n",
       "       -2.91734918e-04,  6.72396957e-05,  4.42189297e-04, -4.00367259e-05,\n",
       "       -4.04331620e-04, -4.58221131e-05,  2.52056958e-04,  2.10529818e-04,\n",
       "        9.68758461e-05,  1.82254017e-04, -4.94335060e-04, -4.37288660e-04,\n",
       "        8.83688913e-05, -5.25859205e-04, -4.32678543e-04,  8.45443509e-05,\n",
       "       -2.91049590e-04,  2.73077256e-05, -1.60968910e-04, -1.54812184e-04,\n",
       "       -3.99813075e-04,  1.88271490e-06, -1.82873737e-04,  3.93061671e-04,\n",
       "       -3.49569759e-04, -2.36295681e-04,  2.18520050e-04, -1.75550575e-04,\n",
       "       -1.24818119e-05,  1.81554135e-05,  3.01921496e-04,  1.04248949e-04,\n",
       "       -2.77203994e-05, -5.40553027e-05,  5.39793238e-04, -2.98120975e-05,\n",
       "        4.64191493e-05, -5.08633936e-05, -4.54396616e-04,  1.61893212e-04,\n",
       "        1.83104709e-04,  4.03516777e-04,  2.31633048e-05, -2.46470545e-04,\n",
       "       -3.93194196e-05, -1.31268185e-04, -4.14883079e-04,  3.53608363e-04,\n",
       "        3.55057686e-04, -5.70099114e-05,  5.32961857e-04,  3.43174756e-04,\n",
       "       -1.49089995e-04, -1.04556945e-05, -1.14818767e-05, -2.09274048e-05])"
      ]
     },
     "execution_count": 43,
     "metadata": {},
     "output_type": "execute_result"
    }
   ],
   "source": [
    "# Equação da Reta - Regressão Linear\n",
    "# y = ax + b\n",
    "\n",
    "# Neste caso, temos vários x porque nosso modelo tem várias colunas\n",
    "# Para cada x existe um a1, a2…\n",
    "model.coef_"
   ]
  },
  {
   "cell_type": "code",
   "execution_count": 44,
   "metadata": {},
   "outputs": [
    {
     "data": {
      "text/plain": [
       "3.001443801430198"
      ]
     },
     "execution_count": 44,
     "metadata": {},
     "output_type": "execute_result"
    }
   ],
   "source": [
    "# Temos também o valor de b\n",
    "model.intercept_"
   ]
  },
  {
   "cell_type": "code",
   "execution_count": 45,
   "metadata": {},
   "outputs": [
    {
     "data": {
      "text/plain": [
       "0.0010623811383394521"
      ]
     },
     "execution_count": 45,
     "metadata": {},
     "output_type": "execute_result"
    }
   ],
   "source": [
    "# R2 Score - Conjunto de Treinamento\n",
    "# Em uma escala de - infinito até 1, tenta explicar o quanto x explica y\n",
    "# Quanto mais próximo de 1, melhor o modelo\n",
    "model.score(X_train, y_train)\n",
    "\n",
    "# Resultado: 0.0010623811383394521\n",
    "# O próprio conjunto de treinamento não conseguiu encontrar uma relação entre as variáveis"
   ]
  },
  {
   "cell_type": "code",
   "execution_count": 46,
   "metadata": {},
   "outputs": [
    {
     "data": {
      "text/plain": [
       "-0.0011798282340873545"
      ]
     },
     "execution_count": 46,
     "metadata": {},
     "output_type": "execute_result"
    }
   ],
   "source": [
    "# R2 Score - Conjunto de Testes\n",
    "model.score(X_test, y_test)\n",
    "\n",
    "# Resultado: -0.0011798282340873545\n",
    "# Conjunto não performou não conjunto de treinamento e nem no conjunto de testes"
   ]
  },
  {
   "cell_type": "code",
   "execution_count": 47,
   "metadata": {},
   "outputs": [
    {
     "data": {
      "text/plain": [
       "-0.0011798282340873545"
      ]
     },
     "execution_count": 47,
     "metadata": {},
     "output_type": "execute_result"
    }
   ],
   "source": [
    "# R2 Score - Testes\n",
    "r2_score(y_test, y_pred)\n",
    "\n",
    "# Resultado: -0.0011798282340873545"
   ]
  },
  {
   "cell_type": "code",
   "execution_count": 48,
   "metadata": {},
   "outputs": [
    {
     "data": {
      "text/plain": [
       "1.204590296131403"
      ]
     },
     "execution_count": 48,
     "metadata": {},
     "output_type": "execute_result"
    }
   ],
   "source": [
    "# MAE (Mean Absolute Error)\n",
    "mean_absolute_error(y_test, y_pred)\n",
    "\n",
    "# Resultado: 1.204590296131403\n",
    "\n",
    "# O modelo supervisionado baseado no algoritmo de Regressão Linear não conseguiu predizer os padrões. "
   ]
  },
  {
   "cell_type": "code",
   "execution_count": null,
   "metadata": {},
   "outputs": [],
   "source": [
    "# Como não é uma abordagem de Regresão Simples, não é possível criar o gráfico e analisar a reta linear\n",
    "#plt.scatter(X_test, y_test, color='g')\n",
    "#plt.plot(X_test, y_pred, color='k')"
   ]
  }
 ],
 "metadata": {
  "kernelspec": {
   "display_name": "PredictiveMaintenance_IA_Python-A8hD1UWB",
   "language": "python",
   "name": "python3"
  },
  "language_info": {
   "codemirror_mode": {
    "name": "ipython",
    "version": 3
   },
   "file_extension": ".py",
   "mimetype": "text/x-python",
   "name": "python",
   "nbconvert_exporter": "python",
   "pygments_lexer": "ipython3",
   "version": "3.12.1"
  }
 },
 "nbformat": 4,
 "nbformat_minor": 2
}
