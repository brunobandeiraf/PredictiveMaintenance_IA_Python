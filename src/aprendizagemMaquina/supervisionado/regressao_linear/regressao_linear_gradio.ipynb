{
 "cells": [
  {
   "cell_type": "code",
   "execution_count": 1,
   "metadata": {},
   "outputs": [],
   "source": [
    "import numpy as np\n",
    "import pandas as pd\n",
    "import seaborn as sns\n",
    "import matplotlib.pyplot as plt"
   ]
  },
  {
   "cell_type": "markdown",
   "metadata": {},
   "source": [
    "# Carregamento do Dataset "
   ]
  },
  {
   "cell_type": "code",
   "execution_count": 27,
   "metadata": {},
   "outputs": [],
   "source": [
    "# Carregamento do dataset\n",
    "df_sensores = pd.read_csv('../../dataset/sensores.csv')"
   ]
  },
  {
   "cell_type": "code",
   "execution_count": null,
   "metadata": {},
   "outputs": [],
   "source": [
    "#pd.set_option('future.no_silent_downcasting', True)\n",
    "\n",
    "# Mapear os valores para os números desejados\n",
    "#mapeamento = {1:'Classe A', 2:'Classe B', 3:'Classe C', 4:'Classe D', 5:'Classe E'}\n",
    "\n",
    "# Substituir os valores na primeira coluna de acordo com o mapeamento\n",
    "#df_sensores.iloc[:, 0] = df_sensores.iloc[:, 0].replace(mapeamento)"
   ]
  },
  {
   "cell_type": "code",
   "execution_count": 3,
   "metadata": {},
   "outputs": [
    {
     "data": {
      "text/html": [
       "<div>\n",
       "<style scoped>\n",
       "    .dataframe tbody tr th:only-of-type {\n",
       "        vertical-align: middle;\n",
       "    }\n",
       "\n",
       "    .dataframe tbody tr th {\n",
       "        vertical-align: top;\n",
       "    }\n",
       "\n",
       "    .dataframe thead th {\n",
       "        text-align: right;\n",
       "    }\n",
       "</style>\n",
       "<table border=\"1\" class=\"dataframe\">\n",
       "  <thead>\n",
       "    <tr style=\"text-align: right;\">\n",
       "      <th></th>\n",
       "      <th>Classe</th>\n",
       "      <th>ID</th>\n",
       "      <th>0</th>\n",
       "      <th>1</th>\n",
       "      <th>2</th>\n",
       "      <th>3</th>\n",
       "      <th>4</th>\n",
       "      <th>5</th>\n",
       "      <th>6</th>\n",
       "      <th>7</th>\n",
       "      <th>...</th>\n",
       "      <th>190</th>\n",
       "      <th>191</th>\n",
       "      <th>192</th>\n",
       "      <th>193</th>\n",
       "      <th>194</th>\n",
       "      <th>195</th>\n",
       "      <th>196</th>\n",
       "      <th>197</th>\n",
       "      <th>198</th>\n",
       "      <th>199</th>\n",
       "    </tr>\n",
       "  </thead>\n",
       "  <tbody>\n",
       "    <tr>\n",
       "      <th>0</th>\n",
       "      <td>4</td>\n",
       "      <td>1</td>\n",
       "      <td>-0.032906</td>\n",
       "      <td>-0.037456</td>\n",
       "      <td>-0.034082</td>\n",
       "      <td>-0.001968</td>\n",
       "      <td>0.084229</td>\n",
       "      <td>0.156574</td>\n",
       "      <td>0.128887</td>\n",
       "      <td>0.042514</td>\n",
       "      <td>...</td>\n",
       "      <td>-0.036180</td>\n",
       "      <td>-0.099786</td>\n",
       "      <td>-0.080654</td>\n",
       "      <td>-0.070954</td>\n",
       "      <td>-0.003636</td>\n",
       "      <td>0.012660</td>\n",
       "      <td>0.028986</td>\n",
       "      <td>0.008340</td>\n",
       "      <td>0.065012</td>\n",
       "      <td>0.091692</td>\n",
       "    </tr>\n",
       "    <tr>\n",
       "      <th>1</th>\n",
       "      <td>1</td>\n",
       "      <td>1</td>\n",
       "      <td>0.198619</td>\n",
       "      <td>0.178949</td>\n",
       "      <td>0.072092</td>\n",
       "      <td>0.083383</td>\n",
       "      <td>0.151363</td>\n",
       "      <td>0.108910</td>\n",
       "      <td>-0.099102</td>\n",
       "      <td>-0.195660</td>\n",
       "      <td>...</td>\n",
       "      <td>-0.306607</td>\n",
       "      <td>-0.135897</td>\n",
       "      <td>-0.024512</td>\n",
       "      <td>0.103591</td>\n",
       "      <td>0.168580</td>\n",
       "      <td>0.032522</td>\n",
       "      <td>0.117073</td>\n",
       "      <td>0.001361</td>\n",
       "      <td>0.060746</td>\n",
       "      <td>0.093414</td>\n",
       "    </tr>\n",
       "    <tr>\n",
       "      <th>2</th>\n",
       "      <td>1</td>\n",
       "      <td>1</td>\n",
       "      <td>-0.000792</td>\n",
       "      <td>0.012913</td>\n",
       "      <td>0.017356</td>\n",
       "      <td>0.024251</td>\n",
       "      <td>0.022153</td>\n",
       "      <td>0.019270</td>\n",
       "      <td>0.017725</td>\n",
       "      <td>0.013644</td>\n",
       "      <td>...</td>\n",
       "      <td>0.027556</td>\n",
       "      <td>0.016042</td>\n",
       "      <td>0.014681</td>\n",
       "      <td>0.017848</td>\n",
       "      <td>0.015588</td>\n",
       "      <td>0.011422</td>\n",
       "      <td>0.008025</td>\n",
       "      <td>0.009931</td>\n",
       "      <td>0.006395</td>\n",
       "      <td>0.002775</td>\n",
       "    </tr>\n",
       "    <tr>\n",
       "      <th>3</th>\n",
       "      <td>2</td>\n",
       "      <td>1</td>\n",
       "      <td>-0.086419</td>\n",
       "      <td>-0.112830</td>\n",
       "      <td>-0.124875</td>\n",
       "      <td>-0.029539</td>\n",
       "      <td>-0.067434</td>\n",
       "      <td>-0.077257</td>\n",
       "      <td>0.064067</td>\n",
       "      <td>0.075505</td>\n",
       "      <td>...</td>\n",
       "      <td>0.023029</td>\n",
       "      <td>-0.032053</td>\n",
       "      <td>0.002037</td>\n",
       "      <td>0.062153</td>\n",
       "      <td>-0.033044</td>\n",
       "      <td>-0.065966</td>\n",
       "      <td>-0.102277</td>\n",
       "      <td>-0.187535</td>\n",
       "      <td>-0.140448</td>\n",
       "      <td>-0.050016</td>\n",
       "    </tr>\n",
       "    <tr>\n",
       "      <th>4</th>\n",
       "      <td>4</td>\n",
       "      <td>1</td>\n",
       "      <td>-0.185975</td>\n",
       "      <td>-0.066973</td>\n",
       "      <td>0.042906</td>\n",
       "      <td>0.007640</td>\n",
       "      <td>-0.038686</td>\n",
       "      <td>-0.012729</td>\n",
       "      <td>0.111408</td>\n",
       "      <td>0.104206</td>\n",
       "      <td>...</td>\n",
       "      <td>0.074705</td>\n",
       "      <td>0.114014</td>\n",
       "      <td>0.089271</td>\n",
       "      <td>0.050639</td>\n",
       "      <td>-0.007533</td>\n",
       "      <td>-0.037725</td>\n",
       "      <td>0.003866</td>\n",
       "      <td>-0.020646</td>\n",
       "      <td>-0.089609</td>\n",
       "      <td>-0.127734</td>\n",
       "    </tr>\n",
       "  </tbody>\n",
       "</table>\n",
       "<p>5 rows × 202 columns</p>\n",
       "</div>"
      ],
      "text/plain": [
       "   Classe  ID         0         1         2         3         4         5  \\\n",
       "0       4   1 -0.032906 -0.037456 -0.034082 -0.001968  0.084229  0.156574   \n",
       "1       1   1  0.198619  0.178949  0.072092  0.083383  0.151363  0.108910   \n",
       "2       1   1 -0.000792  0.012913  0.017356  0.024251  0.022153  0.019270   \n",
       "3       2   1 -0.086419 -0.112830 -0.124875 -0.029539 -0.067434 -0.077257   \n",
       "4       4   1 -0.185975 -0.066973  0.042906  0.007640 -0.038686 -0.012729   \n",
       "\n",
       "          6         7  ...       190       191       192       193       194  \\\n",
       "0  0.128887  0.042514  ... -0.036180 -0.099786 -0.080654 -0.070954 -0.003636   \n",
       "1 -0.099102 -0.195660  ... -0.306607 -0.135897 -0.024512  0.103591  0.168580   \n",
       "2  0.017725  0.013644  ...  0.027556  0.016042  0.014681  0.017848  0.015588   \n",
       "3  0.064067  0.075505  ...  0.023029 -0.032053  0.002037  0.062153 -0.033044   \n",
       "4  0.111408  0.104206  ...  0.074705  0.114014  0.089271  0.050639 -0.007533   \n",
       "\n",
       "        195       196       197       198       199  \n",
       "0  0.012660  0.028986  0.008340  0.065012  0.091692  \n",
       "1  0.032522  0.117073  0.001361  0.060746  0.093414  \n",
       "2  0.011422  0.008025  0.009931  0.006395  0.002775  \n",
       "3 -0.065966 -0.102277 -0.187535 -0.140448 -0.050016  \n",
       "4 -0.037725  0.003866 -0.020646 -0.089609 -0.127734  \n",
       "\n",
       "[5 rows x 202 columns]"
      ]
     },
     "execution_count": 3,
     "metadata": {},
     "output_type": "execute_result"
    }
   ],
   "source": [
    "# Mostrar 5 primeiros registros do Dataframe\n",
    "df_sensores.head(5)"
   ]
  },
  {
   "cell_type": "code",
   "execution_count": 16,
   "metadata": {},
   "outputs": [],
   "source": [
    "# Importando bibliotecas do sklearn\n",
    "from sklearn.linear_model import LinearRegression\n",
    "from sklearn.model_selection import train_test_split\n",
    "from sklearn.metrics import mean_absolute_error, mean_squared_error, r2_score\n",
    "from sklearn.preprocessing import MinMaxScaler"
   ]
  },
  {
   "cell_type": "markdown",
   "metadata": {},
   "source": [
    "# Treinamento do Modelo 1"
   ]
  },
  {
   "cell_type": "code",
   "execution_count": 5,
   "metadata": {},
   "outputs": [],
   "source": [
    "# Modelo - Sem Classe e ID\n",
    "# Variáveis independentes\n",
    "X = df_sensores.drop( columns=['Classe', 'ID'])\n",
    "# Resultado\n",
    "y = df_sensores['Classe']"
   ]
  },
  {
   "cell_type": "code",
   "execution_count": 6,
   "metadata": {},
   "outputs": [],
   "source": [
    "# Selecionando as colunas de 0 a 199\n",
    "colunas_para_normalizar = X.columns[0:199]\n",
    "\n",
    "# Normalizando as colunas\n",
    "for column in colunas_para_normalizar:\n",
    "    X[column] = (X[column] - X[column].min()) / (X[column].max() - X[column].min())"
   ]
  },
  {
   "cell_type": "code",
   "execution_count": 6,
   "metadata": {},
   "outputs": [
    {
     "data": {
      "text/html": [
       "<div>\n",
       "<style scoped>\n",
       "    .dataframe tbody tr th:only-of-type {\n",
       "        vertical-align: middle;\n",
       "    }\n",
       "\n",
       "    .dataframe tbody tr th {\n",
       "        vertical-align: top;\n",
       "    }\n",
       "\n",
       "    .dataframe thead th {\n",
       "        text-align: right;\n",
       "    }\n",
       "</style>\n",
       "<table border=\"1\" class=\"dataframe\">\n",
       "  <thead>\n",
       "    <tr style=\"text-align: right;\">\n",
       "      <th></th>\n",
       "      <th>0</th>\n",
       "      <th>1</th>\n",
       "      <th>2</th>\n",
       "      <th>3</th>\n",
       "      <th>4</th>\n",
       "      <th>5</th>\n",
       "      <th>6</th>\n",
       "      <th>7</th>\n",
       "      <th>8</th>\n",
       "      <th>9</th>\n",
       "      <th>...</th>\n",
       "      <th>190</th>\n",
       "      <th>191</th>\n",
       "      <th>192</th>\n",
       "      <th>193</th>\n",
       "      <th>194</th>\n",
       "      <th>195</th>\n",
       "      <th>196</th>\n",
       "      <th>197</th>\n",
       "      <th>198</th>\n",
       "      <th>199</th>\n",
       "    </tr>\n",
       "  </thead>\n",
       "  <tbody>\n",
       "    <tr>\n",
       "      <th>0</th>\n",
       "      <td>-0.032906</td>\n",
       "      <td>-0.037456</td>\n",
       "      <td>-0.034082</td>\n",
       "      <td>-0.001968</td>\n",
       "      <td>0.084229</td>\n",
       "      <td>0.156574</td>\n",
       "      <td>0.128887</td>\n",
       "      <td>0.042514</td>\n",
       "      <td>-0.036834</td>\n",
       "      <td>-0.013936</td>\n",
       "      <td>...</td>\n",
       "      <td>-0.036180</td>\n",
       "      <td>-0.099786</td>\n",
       "      <td>-0.080654</td>\n",
       "      <td>-0.070954</td>\n",
       "      <td>-0.003636</td>\n",
       "      <td>0.012660</td>\n",
       "      <td>0.028986</td>\n",
       "      <td>0.008340</td>\n",
       "      <td>0.065012</td>\n",
       "      <td>0.091692</td>\n",
       "    </tr>\n",
       "    <tr>\n",
       "      <th>1</th>\n",
       "      <td>0.198619</td>\n",
       "      <td>0.178949</td>\n",
       "      <td>0.072092</td>\n",
       "      <td>0.083383</td>\n",
       "      <td>0.151363</td>\n",
       "      <td>0.108910</td>\n",
       "      <td>-0.099102</td>\n",
       "      <td>-0.195660</td>\n",
       "      <td>-0.125213</td>\n",
       "      <td>0.042914</td>\n",
       "      <td>...</td>\n",
       "      <td>-0.306607</td>\n",
       "      <td>-0.135897</td>\n",
       "      <td>-0.024512</td>\n",
       "      <td>0.103591</td>\n",
       "      <td>0.168580</td>\n",
       "      <td>0.032522</td>\n",
       "      <td>0.117073</td>\n",
       "      <td>0.001361</td>\n",
       "      <td>0.060746</td>\n",
       "      <td>0.093414</td>\n",
       "    </tr>\n",
       "    <tr>\n",
       "      <th>2</th>\n",
       "      <td>-0.000792</td>\n",
       "      <td>0.012913</td>\n",
       "      <td>0.017356</td>\n",
       "      <td>0.024251</td>\n",
       "      <td>0.022153</td>\n",
       "      <td>0.019270</td>\n",
       "      <td>0.017725</td>\n",
       "      <td>0.013644</td>\n",
       "      <td>0.015150</td>\n",
       "      <td>0.020608</td>\n",
       "      <td>...</td>\n",
       "      <td>0.027556</td>\n",
       "      <td>0.016042</td>\n",
       "      <td>0.014681</td>\n",
       "      <td>0.017848</td>\n",
       "      <td>0.015588</td>\n",
       "      <td>0.011422</td>\n",
       "      <td>0.008025</td>\n",
       "      <td>0.009931</td>\n",
       "      <td>0.006395</td>\n",
       "      <td>0.002775</td>\n",
       "    </tr>\n",
       "    <tr>\n",
       "      <th>3</th>\n",
       "      <td>-0.086419</td>\n",
       "      <td>-0.112830</td>\n",
       "      <td>-0.124875</td>\n",
       "      <td>-0.029539</td>\n",
       "      <td>-0.067434</td>\n",
       "      <td>-0.077257</td>\n",
       "      <td>0.064067</td>\n",
       "      <td>0.075505</td>\n",
       "      <td>0.044812</td>\n",
       "      <td>-0.055143</td>\n",
       "      <td>...</td>\n",
       "      <td>0.023029</td>\n",
       "      <td>-0.032053</td>\n",
       "      <td>0.002037</td>\n",
       "      <td>0.062153</td>\n",
       "      <td>-0.033044</td>\n",
       "      <td>-0.065966</td>\n",
       "      <td>-0.102277</td>\n",
       "      <td>-0.187535</td>\n",
       "      <td>-0.140448</td>\n",
       "      <td>-0.050016</td>\n",
       "    </tr>\n",
       "    <tr>\n",
       "      <th>4</th>\n",
       "      <td>-0.185975</td>\n",
       "      <td>-0.066973</td>\n",
       "      <td>0.042906</td>\n",
       "      <td>0.007640</td>\n",
       "      <td>-0.038686</td>\n",
       "      <td>-0.012729</td>\n",
       "      <td>0.111408</td>\n",
       "      <td>0.104206</td>\n",
       "      <td>0.040331</td>\n",
       "      <td>-0.042868</td>\n",
       "      <td>...</td>\n",
       "      <td>0.074705</td>\n",
       "      <td>0.114014</td>\n",
       "      <td>0.089271</td>\n",
       "      <td>0.050639</td>\n",
       "      <td>-0.007533</td>\n",
       "      <td>-0.037725</td>\n",
       "      <td>0.003866</td>\n",
       "      <td>-0.020646</td>\n",
       "      <td>-0.089609</td>\n",
       "      <td>-0.127734</td>\n",
       "    </tr>\n",
       "    <tr>\n",
       "      <th>...</th>\n",
       "      <td>...</td>\n",
       "      <td>...</td>\n",
       "      <td>...</td>\n",
       "      <td>...</td>\n",
       "      <td>...</td>\n",
       "      <td>...</td>\n",
       "      <td>...</td>\n",
       "      <td>...</td>\n",
       "      <td>...</td>\n",
       "      <td>...</td>\n",
       "      <td>...</td>\n",
       "      <td>...</td>\n",
       "      <td>...</td>\n",
       "      <td>...</td>\n",
       "      <td>...</td>\n",
       "      <td>...</td>\n",
       "      <td>...</td>\n",
       "      <td>...</td>\n",
       "      <td>...</td>\n",
       "      <td>...</td>\n",
       "      <td>...</td>\n",
       "    </tr>\n",
       "    <tr>\n",
       "      <th>221172</th>\n",
       "      <td>111.394631</td>\n",
       "      <td>30.634780</td>\n",
       "      <td>-12.765137</td>\n",
       "      <td>99.556962</td>\n",
       "      <td>45.048213</td>\n",
       "      <td>129.527640</td>\n",
       "      <td>88.361737</td>\n",
       "      <td>0.947473</td>\n",
       "      <td>-8.147287</td>\n",
       "      <td>62.266818</td>\n",
       "      <td>...</td>\n",
       "      <td>26.756693</td>\n",
       "      <td>75.841420</td>\n",
       "      <td>37.094935</td>\n",
       "      <td>107.524855</td>\n",
       "      <td>76.530591</td>\n",
       "      <td>125.781503</td>\n",
       "      <td>62.367509</td>\n",
       "      <td>77.414595</td>\n",
       "      <td>116.908843</td>\n",
       "      <td>38.800818</td>\n",
       "    </tr>\n",
       "    <tr>\n",
       "      <th>221173</th>\n",
       "      <td>46.758862</td>\n",
       "      <td>80.447790</td>\n",
       "      <td>94.615440</td>\n",
       "      <td>65.978311</td>\n",
       "      <td>60.522450</td>\n",
       "      <td>42.445478</td>\n",
       "      <td>44.842662</td>\n",
       "      <td>7.620494</td>\n",
       "      <td>24.124841</td>\n",
       "      <td>21.406150</td>\n",
       "      <td>...</td>\n",
       "      <td>102.736692</td>\n",
       "      <td>-1.793468</td>\n",
       "      <td>17.586936</td>\n",
       "      <td>115.041213</td>\n",
       "      <td>102.892572</td>\n",
       "      <td>76.403222</td>\n",
       "      <td>69.615593</td>\n",
       "      <td>54.992079</td>\n",
       "      <td>101.253683</td>\n",
       "      <td>24.639211</td>\n",
       "    </tr>\n",
       "    <tr>\n",
       "      <th>221174</th>\n",
       "      <td>71.294107</td>\n",
       "      <td>53.439127</td>\n",
       "      <td>122.444169</td>\n",
       "      <td>-11.908930</td>\n",
       "      <td>102.876775</td>\n",
       "      <td>2.328393</td>\n",
       "      <td>9.647458</td>\n",
       "      <td>55.345108</td>\n",
       "      <td>67.037083</td>\n",
       "      <td>28.083741</td>\n",
       "      <td>...</td>\n",
       "      <td>35.920694</td>\n",
       "      <td>81.727416</td>\n",
       "      <td>74.062446</td>\n",
       "      <td>75.804683</td>\n",
       "      <td>70.700166</td>\n",
       "      <td>68.610547</td>\n",
       "      <td>67.895022</td>\n",
       "      <td>10.615066</td>\n",
       "      <td>27.759243</td>\n",
       "      <td>46.509455</td>\n",
       "    </tr>\n",
       "    <tr>\n",
       "      <th>221175</th>\n",
       "      <td>134.690811</td>\n",
       "      <td>-9.658267</td>\n",
       "      <td>49.962896</td>\n",
       "      <td>87.863680</td>\n",
       "      <td>31.864942</td>\n",
       "      <td>110.486153</td>\n",
       "      <td>69.154731</td>\n",
       "      <td>90.095746</td>\n",
       "      <td>70.044105</td>\n",
       "      <td>34.484278</td>\n",
       "      <td>...</td>\n",
       "      <td>31.384277</td>\n",
       "      <td>63.520370</td>\n",
       "      <td>-13.986767</td>\n",
       "      <td>57.233241</td>\n",
       "      <td>-11.571748</td>\n",
       "      <td>41.407784</td>\n",
       "      <td>65.798837</td>\n",
       "      <td>78.388978</td>\n",
       "      <td>38.106182</td>\n",
       "      <td>42.838339</td>\n",
       "    </tr>\n",
       "    <tr>\n",
       "      <th>221176</th>\n",
       "      <td>54.279703</td>\n",
       "      <td>33.188985</td>\n",
       "      <td>99.085747</td>\n",
       "      <td>65.970407</td>\n",
       "      <td>36.502635</td>\n",
       "      <td>77.214711</td>\n",
       "      <td>82.623710</td>\n",
       "      <td>37.289715</td>\n",
       "      <td>74.371652</td>\n",
       "      <td>68.321238</td>\n",
       "      <td>...</td>\n",
       "      <td>52.572778</td>\n",
       "      <td>104.925094</td>\n",
       "      <td>40.341060</td>\n",
       "      <td>16.003802</td>\n",
       "      <td>-10.196549</td>\n",
       "      <td>120.071474</td>\n",
       "      <td>28.284208</td>\n",
       "      <td>31.574527</td>\n",
       "      <td>106.503302</td>\n",
       "      <td>66.922215</td>\n",
       "    </tr>\n",
       "  </tbody>\n",
       "</table>\n",
       "<p>221177 rows × 200 columns</p>\n",
       "</div>"
      ],
      "text/plain": [
       "                 0          1           2          3           4           5  \\\n",
       "0        -0.032906  -0.037456   -0.034082  -0.001968    0.084229    0.156574   \n",
       "1         0.198619   0.178949    0.072092   0.083383    0.151363    0.108910   \n",
       "2        -0.000792   0.012913    0.017356   0.024251    0.022153    0.019270   \n",
       "3        -0.086419  -0.112830   -0.124875  -0.029539   -0.067434   -0.077257   \n",
       "4        -0.185975  -0.066973    0.042906   0.007640   -0.038686   -0.012729   \n",
       "...            ...        ...         ...        ...         ...         ...   \n",
       "221172  111.394631  30.634780  -12.765137  99.556962   45.048213  129.527640   \n",
       "221173   46.758862  80.447790   94.615440  65.978311   60.522450   42.445478   \n",
       "221174   71.294107  53.439127  122.444169 -11.908930  102.876775    2.328393   \n",
       "221175  134.690811  -9.658267   49.962896  87.863680   31.864942  110.486153   \n",
       "221176   54.279703  33.188985   99.085747  65.970407   36.502635   77.214711   \n",
       "\n",
       "                6          7          8          9  ...         190  \\\n",
       "0        0.128887   0.042514  -0.036834  -0.013936  ...   -0.036180   \n",
       "1       -0.099102  -0.195660  -0.125213   0.042914  ...   -0.306607   \n",
       "2        0.017725   0.013644   0.015150   0.020608  ...    0.027556   \n",
       "3        0.064067   0.075505   0.044812  -0.055143  ...    0.023029   \n",
       "4        0.111408   0.104206   0.040331  -0.042868  ...    0.074705   \n",
       "...           ...        ...        ...        ...  ...         ...   \n",
       "221172  88.361737   0.947473  -8.147287  62.266818  ...   26.756693   \n",
       "221173  44.842662   7.620494  24.124841  21.406150  ...  102.736692   \n",
       "221174   9.647458  55.345108  67.037083  28.083741  ...   35.920694   \n",
       "221175  69.154731  90.095746  70.044105  34.484278  ...   31.384277   \n",
       "221176  82.623710  37.289715  74.371652  68.321238  ...   52.572778   \n",
       "\n",
       "               191        192         193         194         195        196  \\\n",
       "0        -0.099786  -0.080654   -0.070954   -0.003636    0.012660   0.028986   \n",
       "1        -0.135897  -0.024512    0.103591    0.168580    0.032522   0.117073   \n",
       "2         0.016042   0.014681    0.017848    0.015588    0.011422   0.008025   \n",
       "3        -0.032053   0.002037    0.062153   -0.033044   -0.065966  -0.102277   \n",
       "4         0.114014   0.089271    0.050639   -0.007533   -0.037725   0.003866   \n",
       "...            ...        ...         ...         ...         ...        ...   \n",
       "221172   75.841420  37.094935  107.524855   76.530591  125.781503  62.367509   \n",
       "221173   -1.793468  17.586936  115.041213  102.892572   76.403222  69.615593   \n",
       "221174   81.727416  74.062446   75.804683   70.700166   68.610547  67.895022   \n",
       "221175   63.520370 -13.986767   57.233241  -11.571748   41.407784  65.798837   \n",
       "221176  104.925094  40.341060   16.003802  -10.196549  120.071474  28.284208   \n",
       "\n",
       "              197         198        199  \n",
       "0        0.008340    0.065012   0.091692  \n",
       "1        0.001361    0.060746   0.093414  \n",
       "2        0.009931    0.006395   0.002775  \n",
       "3       -0.187535   -0.140448  -0.050016  \n",
       "4       -0.020646   -0.089609  -0.127734  \n",
       "...           ...         ...        ...  \n",
       "221172  77.414595  116.908843  38.800818  \n",
       "221173  54.992079  101.253683  24.639211  \n",
       "221174  10.615066   27.759243  46.509455  \n",
       "221175  78.388978   38.106182  42.838339  \n",
       "221176  31.574527  106.503302  66.922215  \n",
       "\n",
       "[221177 rows x 200 columns]"
      ]
     },
     "execution_count": 6,
     "metadata": {},
     "output_type": "execute_result"
    }
   ],
   "source": [
    "X"
   ]
  },
  {
   "cell_type": "code",
   "execution_count": 7,
   "metadata": {},
   "outputs": [],
   "source": [
    "# Dividir o conjunto entre treino e teste\n",
    "# Treina com 70% do dataset e 30% de teste\n",
    "# random_state 51 garante que a seleção do conjunto de teste não altere\n",
    "X_train, X_test, y_train, y_test = train_test_split(X, y, train_size=0.7, random_state=51)"
   ]
  },
  {
   "cell_type": "code",
   "execution_count": 8,
   "metadata": {},
   "outputs": [
    {
     "data": {
      "text/plain": [
       "66354"
      ]
     },
     "execution_count": 8,
     "metadata": {},
     "output_type": "execute_result"
    }
   ],
   "source": [
    "len(y_test)"
   ]
  },
  {
   "cell_type": "code",
   "execution_count": 9,
   "metadata": {},
   "outputs": [],
   "source": [
    "# Treinando o Algoritmo de Regressão Linear - Modelo\n",
    "model = LinearRegression().fit(X_train, y_train)"
   ]
  },
  {
   "cell_type": "code",
   "execution_count": 10,
   "metadata": {},
   "outputs": [],
   "source": [
    "# Gerar Predições do conjunto de testes com base no Modelo\n",
    "y_pred = model.predict(X_test)"
   ]
  },
  {
   "cell_type": "markdown",
   "metadata": {},
   "source": [
    "# Treinando Modelo 2 - Médias das Medições"
   ]
  },
  {
   "cell_type": "code",
   "execution_count": 28,
   "metadata": {},
   "outputs": [],
   "source": [
    "# Modelo - Sem Classe e ID\n",
    "# Variáveis independentes\n",
    "X_aux = df_sensores.drop( columns=['Classe', 'ID'])\n",
    "# Resultado\n",
    "y = df_sensores['Classe']"
   ]
  },
  {
   "cell_type": "code",
   "execution_count": 29,
   "metadata": {},
   "outputs": [
    {
     "data": {
      "text/html": [
       "<div>\n",
       "<style scoped>\n",
       "    .dataframe tbody tr th:only-of-type {\n",
       "        vertical-align: middle;\n",
       "    }\n",
       "\n",
       "    .dataframe tbody tr th {\n",
       "        vertical-align: top;\n",
       "    }\n",
       "\n",
       "    .dataframe thead th {\n",
       "        text-align: right;\n",
       "    }\n",
       "</style>\n",
       "<table border=\"1\" class=\"dataframe\">\n",
       "  <thead>\n",
       "    <tr style=\"text-align: right;\">\n",
       "      <th></th>\n",
       "      <th>media</th>\n",
       "    </tr>\n",
       "  </thead>\n",
       "  <tbody>\n",
       "    <tr>\n",
       "      <th>0</th>\n",
       "      <td>0.009764</td>\n",
       "    </tr>\n",
       "    <tr>\n",
       "      <th>1</th>\n",
       "      <td>0.009800</td>\n",
       "    </tr>\n",
       "    <tr>\n",
       "      <th>2</th>\n",
       "      <td>0.005349</td>\n",
       "    </tr>\n",
       "    <tr>\n",
       "      <th>3</th>\n",
       "      <td>0.000187</td>\n",
       "    </tr>\n",
       "    <tr>\n",
       "      <th>4</th>\n",
       "      <td>0.006093</td>\n",
       "    </tr>\n",
       "    <tr>\n",
       "      <th>...</th>\n",
       "      <td>...</td>\n",
       "    </tr>\n",
       "    <tr>\n",
       "      <th>221172</th>\n",
       "      <td>51.035690</td>\n",
       "    </tr>\n",
       "    <tr>\n",
       "      <th>221173</th>\n",
       "      <td>50.457662</td>\n",
       "    </tr>\n",
       "    <tr>\n",
       "      <th>221174</th>\n",
       "      <td>51.413457</td>\n",
       "    </tr>\n",
       "    <tr>\n",
       "      <th>221175</th>\n",
       "      <td>47.760033</td>\n",
       "    </tr>\n",
       "    <tr>\n",
       "      <th>221176</th>\n",
       "      <td>49.161253</td>\n",
       "    </tr>\n",
       "  </tbody>\n",
       "</table>\n",
       "<p>221177 rows × 1 columns</p>\n",
       "</div>"
      ],
      "text/plain": [
       "            media\n",
       "0        0.009764\n",
       "1        0.009800\n",
       "2        0.005349\n",
       "3        0.000187\n",
       "4        0.006093\n",
       "...           ...\n",
       "221172  51.035690\n",
       "221173  50.457662\n",
       "221174  51.413457\n",
       "221175  47.760033\n",
       "221176  49.161253\n",
       "\n",
       "[221177 rows x 1 columns]"
      ]
     },
     "execution_count": 29,
     "metadata": {},
     "output_type": "execute_result"
    }
   ],
   "source": [
    "# Média das medições dos sensores\n",
    "# Calculando a média ao longo das colunas\n",
    "X_aux['media'] = X_aux.mean(axis=1)\n",
    "\n",
    "# Criando um novo dataset com apenas a coluna de médias\n",
    "X = X_aux[['media']]\n",
    "\n",
    "X"
   ]
  },
  {
   "cell_type": "code",
   "execution_count": 31,
   "metadata": {},
   "outputs": [
    {
     "data": {
      "text/html": [
       "<div>\n",
       "<style scoped>\n",
       "    .dataframe tbody tr th:only-of-type {\n",
       "        vertical-align: middle;\n",
       "    }\n",
       "\n",
       "    .dataframe tbody tr th {\n",
       "        vertical-align: top;\n",
       "    }\n",
       "\n",
       "    .dataframe thead th {\n",
       "        text-align: right;\n",
       "    }\n",
       "</style>\n",
       "<table border=\"1\" class=\"dataframe\">\n",
       "  <thead>\n",
       "    <tr style=\"text-align: right;\">\n",
       "      <th></th>\n",
       "      <th>media</th>\n",
       "    </tr>\n",
       "  </thead>\n",
       "  <tbody>\n",
       "    <tr>\n",
       "      <th>0</th>\n",
       "      <td>0.000775</td>\n",
       "    </tr>\n",
       "    <tr>\n",
       "      <th>1</th>\n",
       "      <td>0.000775</td>\n",
       "    </tr>\n",
       "    <tr>\n",
       "      <th>2</th>\n",
       "      <td>0.000700</td>\n",
       "    </tr>\n",
       "    <tr>\n",
       "      <th>3</th>\n",
       "      <td>0.000613</td>\n",
       "    </tr>\n",
       "    <tr>\n",
       "      <th>4</th>\n",
       "      <td>0.000713</td>\n",
       "    </tr>\n",
       "    <tr>\n",
       "      <th>...</th>\n",
       "      <td>...</td>\n",
       "    </tr>\n",
       "    <tr>\n",
       "      <th>221172</th>\n",
       "      <td>0.863049</td>\n",
       "    </tr>\n",
       "    <tr>\n",
       "      <th>221173</th>\n",
       "      <td>0.853281</td>\n",
       "    </tr>\n",
       "    <tr>\n",
       "      <th>221174</th>\n",
       "      <td>0.869433</td>\n",
       "    </tr>\n",
       "    <tr>\n",
       "      <th>221175</th>\n",
       "      <td>0.807694</td>\n",
       "    </tr>\n",
       "    <tr>\n",
       "      <th>221176</th>\n",
       "      <td>0.831373</td>\n",
       "    </tr>\n",
       "  </tbody>\n",
       "</table>\n",
       "<p>221177 rows × 1 columns</p>\n",
       "</div>"
      ],
      "text/plain": [
       "           media\n",
       "0       0.000775\n",
       "1       0.000775\n",
       "2       0.000700\n",
       "3       0.000613\n",
       "4       0.000713\n",
       "...          ...\n",
       "221172  0.863049\n",
       "221173  0.853281\n",
       "221174  0.869433\n",
       "221175  0.807694\n",
       "221176  0.831373\n",
       "\n",
       "[221177 rows x 1 columns]"
      ]
     },
     "execution_count": 31,
     "metadata": {},
     "output_type": "execute_result"
    }
   ],
   "source": [
    "# Selecionando apenas a primeira coluna\n",
    "coluna_para_normalizar = X.columns[0]\n",
    "\n",
    "# Normalizando a coluna\n",
    "X.loc[:, coluna_para_normalizar] = (X[coluna_para_normalizar] - X[coluna_para_normalizar].min()) / (X[coluna_para_normalizar].max() - X[coluna_para_normalizar].min())\n",
    "X"
   ]
  },
  {
   "cell_type": "code",
   "execution_count": 20,
   "metadata": {},
   "outputs": [],
   "source": [
    "# Dividir o conjunto entre treino e teste\n",
    "# Treina com 70% do dataset e 30% de teste\n",
    "# random_state 51 garante que a seleção do conjunto de teste não altere\n",
    "X_train, X_test, y_train, y_test = train_test_split(X, y, train_size=0.7, random_state=51)"
   ]
  },
  {
   "cell_type": "code",
   "execution_count": 21,
   "metadata": {},
   "outputs": [],
   "source": [
    "# Treinando o Algoritmo de Regressão Linear - Modelo das médias dos sensores\n",
    "model = LinearRegression().fit(X_train, y_train)"
   ]
  },
  {
   "cell_type": "code",
   "execution_count": 22,
   "metadata": {},
   "outputs": [],
   "source": [
    "# Gerar Predições do conjunto de testes com base no Modelo\n",
    "y_pred = model.predict(X_test)"
   ]
  },
  {
   "cell_type": "markdown",
   "metadata": {},
   "source": [
    "# Validar Modelo - Métricas"
   ]
  },
  {
   "cell_type": "code",
   "execution_count": 23,
   "metadata": {},
   "outputs": [
    {
     "data": {
      "text/plain": [
       "array([-0.00255029])"
      ]
     },
     "execution_count": 23,
     "metadata": {},
     "output_type": "execute_result"
    }
   ],
   "source": [
    "# Equação da Reta - Regressão Linear\n",
    "# y = ax + b\n",
    "\n",
    "# Neste caso, temos vários x porque nosso modelo tem várias colunas\n",
    "# Para cada x existe um a1, a2…\n",
    "model.coef_"
   ]
  },
  {
   "cell_type": "code",
   "execution_count": 24,
   "metadata": {},
   "outputs": [
    {
     "data": {
      "text/plain": [
       "3.0014424868330885"
      ]
     },
     "execution_count": 24,
     "metadata": {},
     "output_type": "execute_result"
    }
   ],
   "source": [
    "# Temos também o valor de b\n",
    "model.intercept_"
   ]
  },
  {
   "cell_type": "code",
   "execution_count": 25,
   "metadata": {},
   "outputs": [],
   "source": [
    "#  Predição dos valores com base no conjunto de teste\n",
    "y_pred = model.predict(X_test)"
   ]
  },
  {
   "cell_type": "code",
   "execution_count": 26,
   "metadata": {},
   "outputs": [
    {
     "data": {
      "text/plain": [
       "4.937022597406582e-07"
      ]
     },
     "execution_count": 26,
     "metadata": {},
     "output_type": "execute_result"
    }
   ],
   "source": [
    "# R2 Score - Conjunto de Treinamento\n",
    "# Em uma escala de - infinito até 1, tenta explicar o quanto x explica y\n",
    "# Quanto mais próximo de 1, melhor o modelo\n",
    "model.score(X_train, y_train)\n",
    "\n",
    "# Resultado - Modelo 1: 0.0010623811383394521\n",
    "# O próprio conjunto de treinamento não conseguiu encontrar uma relação entre as variáveis\n",
    "\n",
    "# Resultado - Modelo 2: 4.937022597406582e-07\n",
    "# Resultado fora do padrão esperado"
   ]
  },
  {
   "cell_type": "code",
   "execution_count": 18,
   "metadata": {},
   "outputs": [
    {
     "data": {
      "text/plain": [
       "-9.213238563399173e-06"
      ]
     },
     "execution_count": 18,
     "metadata": {},
     "output_type": "execute_result"
    }
   ],
   "source": [
    "# R2 Score - Conjunto de Testes\n",
    "model.score(X_test, y_test)\n",
    "\n",
    "# Resultado - Modelo 1: -0.0011798282340873545\n",
    "# Resultado - Modelo 2: -9.213238563399173e-06\n",
    "\n",
    "# Ambos os Modelos não performaram nem no conjunto de treinamento e nem no conjunto de testes"
   ]
  },
  {
   "cell_type": "code",
   "execution_count": 19,
   "metadata": {},
   "outputs": [
    {
     "data": {
      "text/plain": [
       "-9.213238563399173e-06"
      ]
     },
     "execution_count": 19,
     "metadata": {},
     "output_type": "execute_result"
    }
   ],
   "source": [
    "# R2 Score - Testes\n",
    "r2_score(y_test, y_pred)\n",
    "\n",
    "# Resultado - Modelo 1: -0.0011798282340873545\n",
    "# Resultado - Modelo 2: -9.213238563399173e-06"
   ]
  },
  {
   "cell_type": "code",
   "execution_count": 39,
   "metadata": {},
   "outputs": [
    {
     "data": {
      "text/plain": [
       "1.201977974153832"
      ]
     },
     "execution_count": 39,
     "metadata": {},
     "output_type": "execute_result"
    }
   ],
   "source": [
    "# MAE (Mean Absolute Error)\n",
    "# MAE = Media ( y_test - y_pred)\n",
    "# MAE é menos sensível a outliers e penaliza grandes erros\n",
    "\n",
    "mean_absolute_error(y_test, y_pred)\n",
    "\n",
    "# Resultado - Modelo 1: 1.204590296131403\n",
    "# Resultado - Modelo 2: 1.201977974153832\n",
    "\n",
    "# O modelo supervisionado baseado no algoritmo de Regressão Linear não conseguiu predizer os padrões. "
   ]
  },
  {
   "cell_type": "code",
   "execution_count": 40,
   "metadata": {},
   "outputs": [
    {
     "name": "stderr",
     "output_type": "stream",
     "text": [
      "/Users/brunobandeirafernandes/.local/share/virtualenvs/PredictiveMaintenance_IA_Python-A8hD1UWB/lib/python3.12/site-packages/sklearn/metrics/_regression.py:483: FutureWarning: 'squared' is deprecated in version 1.4 and will be removed in 1.6. To calculate the root mean squared error, use the function'root_mean_squared_error'.\n",
      "  warnings.warn(\n"
     ]
    },
    {
     "data": {
      "text/plain": [
       "1.4153027523661141"
      ]
     },
     "execution_count": 40,
     "metadata": {},
     "output_type": "execute_result"
    }
   ],
   "source": [
    "# RMSE (Square Root Mean Squared Error)\n",
    "# É uma métrica fácil de interpretar\n",
    "mean_squared_error(y_test, y_pred, squared=False)\n",
    "\n",
    "# Resultado - Modelo 1: 1.416130889762221\n",
    "# Resultado - Modelo 2: 1.4153027523661141"
   ]
  },
  {
   "cell_type": "code",
   "execution_count": 41,
   "metadata": {},
   "outputs": [
    {
     "data": {
      "image/png": "[encoded data removed]",
      "text/plain": [
       "<Figure size 1000x600 with 1 Axes>"
      ]
     },
     "metadata": {},
     "output_type": "display_data"
    }
   ],
   "source": [
    "# Análise Gráfica\n",
    "x_axis = range(len(y_test))\n",
    "plt.figure(figsize=(10,6))\n",
    "sns.scatterplot(x=x_axis, y=y_test.values.reshape(-1), color='blue', label='Valores Reais')\n",
    "sns.scatterplot(x=x_axis, y=y_pred.reshape(-1), color='red', label='Valores Preditos')\n",
    "plt.legend()\n",
    "plt.show()\n"
   ]
  },
  {
   "cell_type": "code",
   "execution_count": 42,
   "metadata": {},
   "outputs": [
    {
     "data": {
      "text/plain": [
       "[<matplotlib.lines.Line2D at 0x163cc5250>]"
      ]
     },
     "execution_count": 42,
     "metadata": {},
     "output_type": "execute_result"
    },
    {
     "data": {
      "image/png": "[encoded data removed]",
      "text/plain": [
       "<Figure size 640x480 with 1 Axes>"
      ]
     },
     "metadata": {},
     "output_type": "display_data"
    }
   ],
   "source": [
    "# Modelo 1\n",
    "# Como não é uma abordagem de Regresão Simples, não é possível criar o gráfico e analisar a reta linear\n",
    "\n",
    "# Modelo 2\n",
    "plt.scatter(X_test, y_test, color='g')\n",
    "plt.plot(X_test, y_pred, color='k')"
   ]
  },
  {
   "cell_type": "code",
   "execution_count": 30,
   "metadata": {},
   "outputs": [
    {
     "data": {
      "text/plain": [
       "[<matplotlib.lines.Line2D at 0x2db200a10>]"
      ]
     },
     "execution_count": 30,
     "metadata": {},
     "output_type": "execute_result"
    },
    {
     "data": {
      "image/png": "[encoded data removed]",
      "text/plain": [
       "<Figure size 640x480 with 1 Axes>"
      ]
     },
     "metadata": {},
     "output_type": "display_data"
    }
   ],
   "source": [
    "# Outra forma de fazer \n",
    "# Mostrar como a reta foi calculada - Modelo 2\n",
    "plt.scatter(X_test, y_test, color='g')\n",
    "plt.plot(X_test, y_pred, color='k')"
   ]
  },
  {
   "cell_type": "markdown",
   "metadata": {},
   "source": [
    "# Exportando Modelo 2"
   ]
  },
  {
   "cell_type": "code",
   "execution_count": 19,
   "metadata": {},
   "outputs": [],
   "source": [
    "# Predindo Individual - Modelo 2\n",
    "predicao_individual = {\n",
    "    'media': '0.831373'\n",
    "}\n",
    "sample_df = pd.DataFrame(predicao_individual, index=[1])"
   ]
  },
  {
   "cell_type": "code",
   "execution_count": 20,
   "metadata": {},
   "outputs": [
    {
     "data": {
      "text/plain": [
       "array([2.99932225])"
      ]
     },
     "execution_count": 20,
     "metadata": {},
     "output_type": "execute_result"
    }
   ],
   "source": [
    "# Predição - Modelo 2\n",
    "model.predict(sample_df)"
   ]
  },
  {
   "cell_type": "code",
   "execution_count": 21,
   "metadata": {},
   "outputs": [],
   "source": [
    "import joblib"
   ]
  },
  {
   "cell_type": "code",
   "execution_count": 22,
   "metadata": {},
   "outputs": [
    {
     "data": {
      "text/plain": [
       "['./modelo_regressao_linear.pkl']"
      ]
     },
     "execution_count": 22,
     "metadata": {},
     "output_type": "execute_result"
    }
   ],
   "source": [
    "# Salvar Modelo\n",
    "joblib.dump(model, './modelo_regressao_linear.pkl')"
   ]
  }
 ],
 "metadata": {
  "kernelspec": {
   "display_name": "PredictiveMaintenance_IA_Python-A8hD1UWB",
   "language": "python",
   "name": "python3"
  },
  "language_info": {
   "codemirror_mode": {
    "name": "ipython",
    "version": 3
   },
   "file_extension": ".py",
   "mimetype": "text/x-python",
   "name": "python",
   "nbconvert_exporter": "python",
   "pygments_lexer": "ipython3",
   "version": "3.12.1"
  }
 },
 "nbformat": 4,
 "nbformat_minor": 2
}
